{
 "cells": [
  {
   "cell_type": "code",
   "execution_count": 1,
   "id": "opposed-yesterday",
   "metadata": {},
   "outputs": [],
   "source": [
    "import numpy as np\n",
    "import igl\n",
    "import meshplot as mp\n",
    "from scipy.spatial.transform import Rotation\n",
    "import ipywidgets as iw"
   ]
  },
  {
   "cell_type": "code",
   "execution_count": 2,
   "id": "thick-functionality",
   "metadata": {},
   "outputs": [],
   "source": [
    "with np.load('data/octa_sphere_5.npz') as npl:\n",
    "    v_s, f_s = npl['v'], npl['f']"
   ]
  },
  {
   "cell_type": "code",
   "execution_count": 3,
   "id": "incident-canon",
   "metadata": {},
   "outputs": [],
   "source": [
    "v, f = igl.read_triangle_mesh('data/camel_head.off')\n",
    "segments_recording = np.zeros(len(v), dtype=int)"
   ]
  },
  {
   "cell_type": "code",
   "execution_count": 4,
   "id": "prompt-bernard",
   "metadata": {},
   "outputs": [],
   "source": [
    "v -= v.min(axis=0)\n",
    "v /= v.max()"
   ]
  },
  {
   "cell_type": "code",
   "execution_count": 5,
   "id": "available-discipline",
   "metadata": {},
   "outputs": [
    {
     "data": {
      "application/vnd.jupyter.widget-view+json": {
       "model_id": "85d54ce1b40e4d39a72a9e86cf35bdfb",
       "version_major": 2,
       "version_minor": 0
      },
      "text/plain": [
       "interactive(children=(ToggleButtons(description='Segment', options=(1, '+'), value=1), Output()), _dom_classes…"
      ]
     },
     "metadata": {},
     "output_type": "display_data"
    },
    {
     "data": {
      "application/vnd.jupyter.widget-view+json": {
       "model_id": "8f1deba0658c4d71bec48c676241c69b",
       "version_major": 2,
       "version_minor": 0
      },
      "text/plain": [
       "HBox(children=(Button(description='Paint!', style=ButtonStyle()), Button(description='Clear!', style=ButtonSty…"
      ]
     },
     "metadata": {},
     "output_type": "display_data"
    },
    {
     "data": {
      "application/vnd.jupyter.widget-view+json": {
       "model_id": "36068664bcaf44288b084837098f5a94",
       "version_major": 2,
       "version_minor": 0
      },
      "text/plain": [
       "Renderer(camera=PerspectiveCamera(children=(DirectionalLight(color='white', intensity=0.6, position=(0.2618179…"
      ]
     },
     "metadata": {},
     "output_type": "display_data"
    },
    {
     "data": {
      "application/vnd.jupyter.widget-view+json": {
       "model_id": "8415daf435c048708e98d9dd8bd1cc67",
       "version_major": 2,
       "version_minor": 0
      },
      "text/plain": [
       "interactive(children=(FloatSlider(value=0.1, description='radius', max=1.0, min=0.1), FloatSlider(value=0.0, d…"
      ]
     },
     "metadata": {},
     "output_type": "display_data"
    },
    {
     "data": {
      "text/plain": [
       "<function __main__.sf(radius, x, y, z)>"
      ]
     },
     "execution_count": 5,
     "metadata": {},
     "output_type": "execute_result"
    }
   ],
   "source": [
    "tb = iw.ToggleButtons(description='Segment', options=[1,'+'])\n",
    "@mp.interact(x=tb)\n",
    "def s_but(x):\n",
    "    if x == '+':\n",
    "        tb.options = list(range(1,len(tb.options)+1)) + ['+']\n",
    "        tb.value = len(tb.options) - 1\n",
    "    else:\n",
    "        tb.current = x\n",
    "\n",
    "button = iw.Button(description=\"Paint!\")\n",
    "clear_button = iw.Button(description=\"Clear!\")\n",
    "\n",
    "# Set Callback\n",
    "def paint_clicked(b):\n",
    "    slicer = np.where(np.linalg.norm(v - sf.coord[1:],axis=1) < sf.coord[0])[0]\n",
    "    segments_recording[slicer] = tb.current\n",
    "    paint_ui.update_object(oid=0, colors=segments_recording)\n",
    "def clear_clicked(b):\n",
    "    segments_recording[segments_recording == tb.current] = 0\n",
    "    paint_ui.update_object(oid=0, colors=segments_recording)\n",
    "button.on_click(paint_clicked)\n",
    "clear_button.on_click(clear_clicked)\n",
    "\n",
    "# Display Buttons\n",
    "display(iw.HBox([button, clear_button]))\n",
    "\n",
    "# Meshplot\n",
    "paint_ui = mp.plot(v,f,c=segments_recording)\n",
    "paint_ui.add_mesh(v_s*0.1, f_s,c=np.array([1,0,0]))\n",
    "def sf(radius,x,y,z):\n",
    "    paint_ui.update_object(oid = 1, vertices = v_s*radius + np.array([x,y,z]))\n",
    "    sf.coord = [radius,x,y,z]\n",
    "mp.interact(sf, \n",
    "            radius = iw.FloatSlider(min=0.1, max=1, value=0.1),\n",
    "            x = iw.FloatSlider(min=-0.1, max=1, value=0),\n",
    "            y = iw.FloatSlider(min=-0.1, max=1, value=0),\n",
    "            z = iw.FloatSlider(min=-0.1, max=1, value=0))"
   ]
  },
  {
   "cell_type": "code",
   "execution_count": 12,
   "id": "voluntary-button",
   "metadata": {},
   "outputs": [],
   "source": [
    "np.save('data/camel_head.label.npy', segments_recording)"
   ]
  },
  {
   "cell_type": "code",
   "execution_count": null,
   "id": "liquid-painting",
   "metadata": {},
   "outputs": [],
   "source": []
  }
 ],
 "metadata": {
  "kernelspec": {
   "display_name": "Python 3",
   "language": "python",
   "name": "python3"
  },
  "language_info": {
   "codemirror_mode": {
    "name": "ipython",
    "version": 3
   },
   "file_extension": ".py",
   "mimetype": "text/x-python",
   "name": "python",
   "nbconvert_exporter": "python",
   "pygments_lexer": "ipython3",
   "version": "3.8.5"
  }
 },
 "nbformat": 4,
 "nbformat_minor": 5
}
