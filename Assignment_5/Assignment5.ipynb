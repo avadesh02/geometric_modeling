{
 "cells": [
  {
   "cell_type": "code",
   "execution_count": 42,
   "id": "local-investor",
   "metadata": {},
   "outputs": [],
   "source": [
    "import numpy as np\n",
    "import igl\n",
    "import meshplot as mp\n",
    "from scipy.spatial.transform import Rotation\n",
    "import scipy\n",
    "import ipywidgets as iw\n",
    "import time\n"
   ]
  },
  {
   "cell_type": "code",
   "execution_count": 43,
   "id": "pharmaceutical-transsexual",
   "metadata": {},
   "outputs": [],
   "source": [
    "v, f = igl.read_triangle_mesh('data/woody-hi.off')\n",
    "labels = np.load('data/woody-hi.label.npy').astype(int)\n",
    "v -= v.min(axis=0)\n",
    "v /= v.max()"
   ]
  },
  {
   "cell_type": "code",
   "execution_count": 44,
   "id": "tight-course",
   "metadata": {},
   "outputs": [],
   "source": [
    "handle_vertex_positions = v.copy()\n",
    "pos_f_saver = np.zeros((labels.max() + 1, 6))\n",
    "def pos_f(s,x,y,z, α, β, γ):\n",
    "    slices = (labels==s)\n",
    "    r = Rotation.from_euler('xyz', [α, β, γ], degrees=True)\n",
    "    v_slice = v[slices] + np.array([[x,y,z]])\n",
    "    center = v_slice.mean(axis=0)\n",
    "    handle_vertex_positions[slices] = r.apply(v_slice - center) + center\n",
    "    pos_f_saver[s - 1] = [x,y,z,α,β,γ]\n",
    "    t0 = time.time()\n",
    "    v_deformed = pos_f.deformer(handle_vertex_positions)\n",
    "    p.update_object(vertices = v_deformed)\n",
    "    t1 = time.time()\n",
    "    print('FPS', 1/(t1 - t0))\n",
    "pos_f.deformer = lambda x:x"
   ]
  },
  {
   "cell_type": "code",
   "execution_count": 45,
   "id": "stone-element",
   "metadata": {},
   "outputs": [],
   "source": [
    "def widgets_wrapper():\n",
    "    segment_widget = iw.Dropdown(options=np.arange(labels.max()) + 1)\n",
    "    translate_widget = {i:iw.FloatSlider(min=-1, max=1, value=0) \n",
    "                        for i in 'xyz'}\n",
    "    rotate_widget = {a:iw.FloatSlider(min=-90, max=90, value=0, step=1) \n",
    "                     for a in 'αβγ'}\n",
    "\n",
    "    def update_seg(*args):\n",
    "        (translate_widget['x'].value,translate_widget['y'].value,\n",
    "        translate_widget['z'].value,\n",
    "        rotate_widget['α'].value,rotate_widget['β'].value,\n",
    "        rotate_widget['γ'].value) = pos_f_saver[segment_widget.value]\n",
    "    segment_widget.observe(update_seg, 'value')\n",
    "    widgets_dict = dict(s=segment_widget)\n",
    "    widgets_dict.update(translate_widget)\n",
    "    widgets_dict.update(rotate_widget)\n",
    "    return widgets_dict"
   ]
  },
  {
   "cell_type": "code",
   "execution_count": 46,
   "id": "divine-variety",
   "metadata": {},
   "outputs": [
    {
     "data": {
      "text/plain": [
       "' (Optional) Register this function to perform interactive deformation\\npos_f.deformer = position_deformer\\n'"
      ]
     },
     "execution_count": 46,
     "metadata": {},
     "output_type": "execute_result"
    }
   ],
   "source": [
    "def position_deformer(target_pos):\n",
    "    '''Fill in this function to change positions'''\n",
    "    return target_pos\n",
    "''' (Optional) Register this function to perform interactive deformation\n",
    "pos_f.deformer = position_deformer\n",
    "'''"
   ]
  },
  {
   "cell_type": "code",
   "execution_count": 47,
   "id": "falling-timer",
   "metadata": {
    "scrolled": false
   },
   "outputs": [
    {
     "data": {
      "application/vnd.jupyter.widget-view+json": {
       "model_id": "8db8c3c43c744286be4b97243dcf36b6",
       "version_major": 2,
       "version_minor": 0
      },
      "text/plain": [
       "Renderer(camera=PerspectiveCamera(children=(DirectionalLight(color='white', intensity=0.6, position=(0.4313118…"
      ]
     },
     "metadata": {},
     "output_type": "display_data"
    }
   ],
   "source": [
    "# part 1 & 2(removing complex features)\n",
    "def remove_high_frequency_features(v, f, labels):\n",
    "    \"\"\"\n",
    "    This function removes high frequency details from the mesh\n",
    "    \"\"\"\n",
    "    \n",
    "    lw = igl.cotmatrix(v, f)\n",
    "    m = igl.massmatrix(v, f, igl.MASSMATRIX_TYPE_BARYCENTRIC)\n",
    "    m_inv = scipy.sparse.diags(1/(m.diagonal()))\n",
    "        \n",
    "    A = lw@m_inv@lw\n",
    "    # computing number of free variables\n",
    "    fi = (labels == 0)\n",
    "    ci = (labels != 0)\n",
    "    nf = len(v[fi])\n",
    "    A_ff = A[:,fi][fi]\n",
    "    A_fc = A[:,ci][fi]\n",
    "    v_c = v[ci]\n",
    "        \n",
    "    v_solve = scipy.sparse.linalg.spsolve(A_ff, -A_fc@v_c)\n",
    "    v_smooth = np.zeros_like(v)\n",
    "    v_smooth[fi] = v_solve\n",
    "    v_smooth[ci] = v[ci]\n",
    "    \n",
    "    return v_smooth, A_ff, A_fc\n",
    "\n",
    "v_smooth, A_ff, A_fc = remove_high_frequency_features(v, f, labels)    \n",
    "p = mp.plot(v_smooth, f, c = labels)"
   ]
  },
  {
   "cell_type": "code",
   "execution_count": 48,
   "id": "practical-velvet",
   "metadata": {
    "scrolled": true
   },
   "outputs": [],
   "source": [
    "# part 3\n",
    "def compute_local_displacements(v, vs, f):\n",
    "    \"\"\"\n",
    "    This function computes the displacements of the free vertices after smoothing in the local\n",
    "    frames\n",
    "    Input:\n",
    "        v : original location of vertices\n",
    "        vs : smooth mesh vertices without high frequency features\n",
    "        d_vs : deformed mesh vertices\n",
    "        f : faces array\n",
    "    \"\"\"\n",
    "\n",
    "    \n",
    "    d_tmp = v - vs\n",
    "    arr_l_e = np.zeros_like(v[:,0], dtype=int)\n",
    "    d = np.zeros_like(d_tmp)\n",
    "    \n",
    "    AA = igl.adjacency_list(f)\n",
    "    N = igl.per_vertex_normals(vs,f)\n",
    "\n",
    "    for i in range(len(v)):\n",
    "        # projecting neighbours into tangent plane\n",
    "        p_ei = v[AA[i]]-((v[AA[i]] - v[i]).dot(N[i]))[:,None]*N[i]\n",
    "        # computing the neighbour with the largest norm\n",
    "        p_ei -= v[i]\n",
    "        norm_pe_i = np.linalg.norm(p_ei, axis = 1)\n",
    "        l_e = np.argmax(norm_pe_i)\n",
    "        # storing longest edge\n",
    "        arr_l_e[i] = int(AA[i][l_e])\n",
    "        # normalizing the edge\n",
    "        p_ei = p_ei[l_e]/norm_pe_i[l_e]\n",
    "        # computing third basis\n",
    "        k_ei = np.cross(p_ei,N[i])\n",
    "        # computing displacement in local frame\n",
    "        d[i] = np.array([d_tmp[i].dot(p_ei),d_tmp[i].dot(k_ei), d_tmp[i].dot(N[i])]) \n",
    "    \n",
    "    return d, arr_l_e\n",
    "    \n",
    "d, arr_l_e = compute_local_displacements(v, v_smooth, f)"
   ]
  },
  {
   "cell_type": "code",
   "execution_count": 49,
   "id": "proprietary-prediction",
   "metadata": {},
   "outputs": [
    {
     "data": {
      "application/vnd.jupyter.widget-view+json": {
       "model_id": "9c8453b9f8554b12a1a56427ea586b6c",
       "version_major": 2,
       "version_minor": 0
      },
      "text/plain": [
       "Renderer(camera=PerspectiveCamera(children=(DirectionalLight(color='white', intensity=0.6, position=(0.4306930…"
      ]
     },
     "metadata": {},
     "output_type": "display_data"
    },
    {
     "data": {
      "application/vnd.jupyter.widget-view+json": {
       "model_id": "b4694c0d9efb43a6bd3048df2186d72f",
       "version_major": 2,
       "version_minor": 0
      },
      "text/plain": [
       "interactive(children=(Dropdown(description='s', options=(1, 2, 3), value=1), FloatSlider(value=0.0, descriptio…"
      ]
     },
     "metadata": {},
     "output_type": "display_data"
    },
    {
     "data": {
      "text/plain": [
       "<function __main__.pos_f(s, x, y, z, α, β, γ)>"
      ]
     },
     "execution_count": 49,
     "metadata": {},
     "output_type": "execute_result"
    }
   ],
   "source": [
    "## Widget UI\n",
    "\n",
    "p = mp.plot(handle_vertex_positions, f, c=labels)\n",
    "iw.interact(pos_f,\n",
    "            **widgets_wrapper())"
   ]
  },
  {
   "cell_type": "code",
   "execution_count": 57,
   "id": "capable-madagascar",
   "metadata": {},
   "outputs": [
    {
     "name": "stdout",
     "output_type": "stream",
     "text": [
      "0.018065214157104492\n",
      "0.1185910701751709\n"
     ]
    }
   ],
   "source": [
    "import time\n",
    "def project_features(v_deformed, f, d, arr_l_e, labels, A, b, no_hf_features = False):\n",
    "    \"\"\"\n",
    "    This function projects the features back to the deformed mesh\n",
    "    Input:\n",
    "        v_deformed : deformed mesh\n",
    "        f : faces\n",
    "        d : local frame displacements\n",
    "        arr_l_e : the vertex with longest edge\n",
    "        labels : constraints\n",
    "        A : A matrix to solve linear system\n",
    "        b : matrix rhs\n",
    "        no_hf_features : trigger to show smooth mesh after deformation\n",
    "    \"\"\"\n",
    "    vd = v_deformed.copy()\n",
    "    vd[labels == 0] = scipy.sparse.linalg.spsolve(A_ff, -A_fc@vd[labels != 0])\n",
    "    et = time.time()\n",
    "    if not no_hf_features:\n",
    "        N = igl.per_vertex_normals(vd,f)\n",
    "        for i in range(len(arr_l_e)):\n",
    "            p_ei = v[arr_l_e[i]] - v[i] - (v[arr_l_e[i]] - v[i]).dot(N[i])*N[i]\n",
    "            p_ei /= np.linalg.norm(p_ei)\n",
    "            k_ei = np.cross(p_ei, N[i])\n",
    "            vd[i] += d[i][0]*p_ei + d[i][1]*k_ei + d[i][2]*N[i]\n",
    "\n",
    "    return vd\n",
    "    \n",
    "# set to True to show the reconstructed deformed mesh with only smooth features\n",
    "output = project_features(handle_vertex_positions, f, d, arr_l_e, labels, A_ff, A_fc, False)"
   ]
  },
  {
   "cell_type": "code",
   "execution_count": 55,
   "id": "facial-glory",
   "metadata": {},
   "outputs": [
    {
     "data": {
      "application/vnd.jupyter.widget-view+json": {
       "model_id": "bd4b3f40af0447458bfdceac30aaed86",
       "version_major": 2,
       "version_minor": 0
      },
      "text/plain": [
       "Renderer(camera=PerspectiveCamera(children=(DirectionalLight(color='white', intensity=0.6, position=(0.4306930…"
      ]
     },
     "metadata": {},
     "output_type": "display_data"
    }
   ],
   "source": [
    "p = mp.plot(output, f, c=labels)"
   ]
  },
  {
   "cell_type": "code",
   "execution_count": null,
   "id": "mounted-fourth",
   "metadata": {},
   "outputs": [],
   "source": []
  },
  {
   "cell_type": "code",
   "execution_count": null,
   "id": "modified-mirror",
   "metadata": {},
   "outputs": [],
   "source": []
  }
 ],
 "metadata": {
  "kernelspec": {
   "display_name": "Python 3",
   "language": "python",
   "name": "python3"
  },
  "language_info": {
   "codemirror_mode": {
    "name": "ipython",
    "version": 3
   },
   "file_extension": ".py",
   "mimetype": "text/x-python",
   "name": "python",
   "nbconvert_exporter": "python",
   "pygments_lexer": "ipython3",
   "version": "3.8.5"
  }
 },
 "nbformat": 4,
 "nbformat_minor": 5
}
