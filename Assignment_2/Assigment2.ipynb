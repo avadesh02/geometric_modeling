{
 "cells": [
  {
   "cell_type": "code",
   "execution_count": 1,
   "metadata": {
    "scrolled": true
   },
   "outputs": [],
   "source": [
    "import numpy as np\n",
    "from scipy import stats\n",
    "import igl\n",
    "import meshplot as mp"
   ]
  },
  {
   "cell_type": "code",
   "execution_count": 2,
   "metadata": {
    "scrolled": true
   },
   "outputs": [],
   "source": [
    "# Utility function to generate a tet grid\n",
    "# n is a 3-tuple with the number of cell in every direction\n",
    "# mmin/mmax are the grid bounding box corners\n",
    "\n",
    "def tet_grid(n, mmin, mmax):\n",
    "    nx = n[0]\n",
    "    ny = n[1]\n",
    "    nz = n[2]\n",
    "    \n",
    "    delta = mmax-mmin\n",
    "    \n",
    "    deltax = delta[0]/(nx-1)\n",
    "    deltay = delta[1]/(ny-1)\n",
    "    deltaz = delta[2]/(nz-1)\n",
    "    \n",
    "    T = np.zeros(((nx-1)*(ny-1)*(nz-1)*6, 4), dtype=np.int64)\n",
    "    V = np.zeros((nx*ny*nz, 3))\n",
    "\n",
    "    mapping = -np.ones((nx, ny, nz), dtype=np.int64)\n",
    "\n",
    "\n",
    "    index = 0\n",
    "    for i in range(nx):\n",
    "        for j in range(ny):\n",
    "            for k in range(nz):\n",
    "                mapping[i, j, k] = index\n",
    "                V[index, :] = [i*deltax, j*deltay, k*deltaz]\n",
    "                index += 1\n",
    "    assert(index == V.shape[0])\n",
    "    \n",
    "    tets = np.array([\n",
    "        [0,1,3,4],\n",
    "        [5,2,6,7],\n",
    "        [4,1,5,3],\n",
    "        [4,3,7,5],\n",
    "        [3,1,5,2],\n",
    "        [2,3,7,5]\n",
    "    ])\n",
    "    \n",
    "    index = 0\n",
    "    for i in range(nx-1):\n",
    "        for j in range(ny-1):\n",
    "            for k in range(nz-1):\n",
    "                indices = [\n",
    "                    (i,   j,   k),\n",
    "                    (i+1, j,   k),\n",
    "                    (i+1, j+1, k),\n",
    "                    (i,   j+1, k),\n",
    "\n",
    "                    (i,   j,   k+1),\n",
    "                    (i+1, j,   k+1),\n",
    "                    (i+1, j+1, k+1),\n",
    "                    (i,   j+1, k+1),\n",
    "                ]\n",
    "                \n",
    "                for t in range(tets.shape[0]):\n",
    "                    tmp = [mapping[indices[ii]] for ii in tets[t, :]]\n",
    "                    T[index, :]=tmp\n",
    "                    index += 1\n",
    "                    \n",
    "    assert(index == T.shape[0])\n",
    "    \n",
    "    V += mmin\n",
    "    return V, T"
   ]
  },
  {
   "cell_type": "markdown",
   "metadata": {},
   "source": [
    "# Reading point cloud"
   ]
  },
  {
   "cell_type": "code",
   "execution_count": 35,
   "metadata": {},
   "outputs": [
    {
     "data": {
      "application/vnd.jupyter.widget-view+json": {
       "model_id": "68b971d087384d599a913793e5b8a6aa",
       "version_major": 2,
       "version_minor": 0
      },
      "text/plain": [
       "Renderer(camera=PerspectiveCamera(children=(DirectionalLight(color='white', intensity=0.6, position=(5.0, -23.…"
      ]
     },
     "metadata": {},
     "output_type": "display_data"
    },
    {
     "data": {
      "text/plain": [
       "<meshplot.Viewer.Viewer at 0x7efb43efdcd0>"
      ]
     },
     "execution_count": 35,
     "metadata": {},
     "output_type": "execute_result"
    }
   ],
   "source": [
    "pi, v = igl.read_triangle_mesh(\"data/cat.off\")\n",
    "# pi, v = igl.read_triangle_mesh(\"data/luigi.off\")\n",
    "\n",
    "pi /= 10\n",
    "ni = igl.per_vertex_normals(pi, v)\n",
    "mp.plot(pi, shading={\"point_size\": 8})"
   ]
  },
  {
   "cell_type": "code",
   "execution_count": 36,
   "metadata": {},
   "outputs": [],
   "source": [
    "# Computing bounding box of point cloud\n",
    "def compute_bbox(pi):\n",
    "    \"\"\"\n",
    "    computes bounding box for point cloud\n",
    "    Input:\n",
    "        pi : point cloud\n",
    "    \"\"\"\n",
    "    bbmin = np.min(pi, axis = 0)\n",
    "    bbmax = np.max(pi, axis = 0)\n",
    "    \n",
    "    return bbmin, bbmax"
   ]
  },
  {
   "cell_type": "code",
   "execution_count": 37,
   "metadata": {},
   "outputs": [],
   "source": [
    "def create_spatial_grid(pi, bmin, bmax, n):\n",
    "    '''\n",
    "    This function creates the spatial grid for a point cloud\n",
    "    Note : Only handles square grids and equally spaced\n",
    "    Input:\n",
    "        pi : point cloud\n",
    "        bmin : min index of bounding box\n",
    "        \n",
    "    '''\n",
    "    delta = np.round((bmax - bmin)/n, 2)\n",
    "    grid = {}\n",
    "    grid[\"bl\"] = []\n",
    "    grid[\"ind\"] = []\n",
    "    grid[\"ind_arr\"] = []\n",
    "    for x_i in range(n):\n",
    "        for y_i in range(n):\n",
    "            for z_i in range(n):\n",
    "                grid[\"ind\"].append(str([x_i, y_i, z_i]))\n",
    "                grid[\"ind_arr\"].append([x_i, y_i, z_i])\n",
    "                grid[str([x_i, y_i, z_i])] = []\n",
    "                grid[\"bl\"].append(bbmin + np.array([x_i*delta[0], y_i*delta[1], z_i*delta[2]]))\n",
    "\n",
    "    for i in range(len(pi)):\n",
    "        x_i = int(min(np.floor((pi[i,0] - bmin[0])/delta[0]), float(n-1)))\n",
    "        y_i = int(min(np.floor((pi[i,1] - bmin[1])/delta[1]), float(n-1)))\n",
    "        z_i = int(min(np.floor((pi[i,2] - bmin[2])/delta[2]), float(n-1)))\n",
    "\n",
    "        grid[str([x_i, y_i, z_i])].append(i)\n",
    "              \n",
    "    return grid\n"
   ]
  },
  {
   "cell_type": "code",
   "execution_count": 38,
   "metadata": {},
   "outputs": [],
   "source": [
    "# Setting up Constraints\n",
    "def find_closest_point(point, points):\n",
    "    '''\n",
    "    This function returns the index of the closest point in points to point. \n",
    "    '''\n",
    "    dist = np.linalg.norm(np.subtract(points, point), axis = 1)\n",
    "    return np.argmin(dist)\n",
    "\n",
    "\n",
    "def create_constraints(pi, ni, eps_init, find_closest_point):\n",
    "    '''\n",
    "    This function creates the constraint matrix A, b for every point in the point cloud\n",
    "    Input:\n",
    "        pi : points in the point cloud\n",
    "        ni: normals for each point in the point cloud\n",
    "        eps_init : epsillon distance to be moved in and out wrt each point\n",
    "        find_closest_point : function that computes closest point\n",
    "    '''\n",
    "    n = len(pi)\n",
    "    f = [] # distance constraints (0, eps, -eps)   \n",
    "    p = [] # array of points which include pi, pi+, pi-\n",
    "    \n",
    "    for i in range(n):\n",
    "        p.append(pi[i])\n",
    "        f.append(0)\n",
    "        # computing pi+\n",
    "        eps = eps_init\n",
    "        while True:\n",
    "            # normalizing the normal\n",
    "            n_ni = ni[i]/np.linalg.norm(ni[i])\n",
    "            if find_closest_point(pi[i] + eps*n_ni , pi) != i:\n",
    "                eps /= 2.0\n",
    "            else:\n",
    "                p.append(pi[i] + eps*ni[i])\n",
    "                f.append(eps)\n",
    "                break\n",
    "        # computing pi -\n",
    "        eps = eps_init\n",
    "        while True:\n",
    "            if find_closest_point(pi[i] - eps*n_ni , pi) != i:\n",
    "                eps /= 2.0\n",
    "            else:\n",
    "                p.append(pi[i] - eps*ni[i])\n",
    "                f.append(-eps)\n",
    "                break\n",
    "        \n",
    "    p = np.asarray(p)\n",
    "    f = np.asarray(f)\n",
    "            \n",
    "    return p, f"
   ]
  },
  {
   "cell_type": "code",
   "execution_count": 39,
   "metadata": {
    "scrolled": true
   },
   "outputs": [],
   "source": [
    "# Setting up Constraints\n",
    "def find_closest_point_acc(point, pi, sp_grid):\n",
    "    '''\n",
    "    This function returns the index of the closest point in points to point using an\n",
    "    accelerated data structure\n",
    "    Input:\n",
    "        point : point of interest \n",
    "        pi : point cloud\n",
    "        sp_grid : spatial grid structure information\n",
    "    '''\n",
    "    dist = np.linalg.norm(np.subtract(sp_grid[\"bl\"], point), axis = 1)\n",
    "    # Taking top 2 closest grids just to be safe as in some cases the\n",
    "    # distance of the bottom left corner of the adjacent grid is closer than then the correct grid\n",
    "    # to be chosen\n",
    "    k = 30\n",
    "    ind = np.argsort(dist)\n",
    "    indices = np.concatenate((sp_grid[sp_grid[\"ind\"][ind[0]]], sp_grid[sp_grid[\"ind\"][ind[1]]]))\n",
    "    for l in range(2,k):\n",
    "        indices = np.concatenate((indices, sp_grid[sp_grid[\"ind\"][ind[l]]]))\n",
    "    indices = indices.astype(int)\n",
    "    dist = np.linalg.norm(np.subtract(pi[indices], point), axis = 1)\n",
    "    ind = np.argmin(dist)\n",
    "    return indices[ind]\n",
    "\n",
    "def closest_points_acc(point, points, h, sp_grid):\n",
    "    dist = np.linalg.norm(np.subtract(sp_grid[\"bl\"], point), axis = 1)\n",
    "    # Taking top 2 closest grids just to be safe as in some cases the\n",
    "    # distance of the bottom left corner of the adjacent grid is closer than then the correct grid\n",
    "    # to be chosen\n",
    "    k = 25#15#6\n",
    "    ind = np.argsort(dist)\n",
    "    indices = np.concatenate((sp_grid[sp_grid[\"ind\"][ind[0]]], sp_grid[sp_grid[\"ind\"][ind[1]]]))\n",
    "    for l in range(2,k):\n",
    "        indices = np.concatenate((indices, sp_grid[sp_grid[\"ind\"][ind[l]]]))\n",
    "    indices = indices.astype(int)\n",
    "    dist = np.linalg.norm(np.subtract(points[indices], point), axis = 1)\n",
    "    ind = np.argwhere(dist < h)\n",
    "    return indices[ind]\n",
    "\n"
   ]
  },
  {
   "cell_type": "code",
   "execution_count": 40,
   "metadata": {},
   "outputs": [],
   "source": [
    "def align_point_cloud(pi):\n",
    "    '''\n",
    "    This function rotates the point cloud such that it is aligned to the default\n",
    "    (x,y,z) axis (1,0,0), (0,1,0), (0,0,1)\n",
    "    Input:\n",
    "        pi : point cloud to be aligned\n",
    "    '''\n",
    "    val, mat = np.linalg.eig(np.cov(pi.T))\n",
    "    mean = pi.mean(axis=0)\n",
    "    \n",
    "    R = np.identity(4)\n",
    "    R[0:3,0:3] = np.linalg.inv(mat)\n",
    "    \n",
    "    T = np.identity(4)\n",
    "    T[:,3][0:3] = mean\n",
    "    T_inv = -T\n",
    "    T_inv[3,3] = 1.0\n",
    "    \n",
    "    pi_tr = np.hstack((pi, np.ones((len(pi),1))))\n",
    "    \n",
    "    p_aligned = (np.matmul(np.matmul(np.matmul(T, R),T_inv),pi_tr.T)).T\n",
    "    \n",
    "    return p_aligned[:,0:3]"
   ]
  },
  {
   "cell_type": "code",
   "execution_count": 41,
   "metadata": {},
   "outputs": [
    {
     "data": {
      "application/vnd.jupyter.widget-view+json": {
       "model_id": "cc2b822a6abc42ff998273fc7ad6c397",
       "version_major": 2,
       "version_minor": 0
      },
      "text/plain": [
       "Renderer(camera=PerspectiveCamera(children=(DirectionalLight(color='white', intensity=0.6, position=(5.0120944…"
      ]
     },
     "metadata": {},
     "output_type": "display_data"
    },
    {
     "data": {
      "text/plain": [
       "<meshplot.Viewer.Viewer at 0x7efb43f978b0>"
      ]
     },
     "execution_count": 41,
     "metadata": {},
     "output_type": "execute_result"
    }
   ],
   "source": [
    "# # Computing bounding box\n",
    "bbmin, bbmax = compute_bbox(pi)\n",
    "bbox_diag = np.linalg.norm(bbmax - bbmin)\n",
    "grid = create_spatial_grid(pi, bbmin, bbmax, 4)\n",
    "\n",
    "#computing wedland radius\n",
    "eps_init = 0.01*bbox_diag\n",
    "# creating constraint matrices for moving least square\n",
    "find_closest_point_accelerated = lambda point, points : find_closest_point_acc(point, points, grid)\n",
    "# this computes constraints using no acceleration \n",
    "p, f = create_constraints(pi, ni, eps_init, find_closest_point)\n",
    "# this computes the constraints array using acceleration\n",
    "# p, f = create_constraints(pi, ni, eps_init, find_closest_point_accelerated)\n",
    "\n",
    "# p = align_point_cloud(p)\n",
    "# Part one plot\n",
    "tmp = np.tile([[0,0,1], [1,0,0], [0,1,0]], (int(len(p)/3.0),1))\n",
    "mp.plot(p, c = tmp, shading={\"point_size\": 6})"
   ]
  },
  {
   "cell_type": "code",
   "execution_count": 42,
   "metadata": {},
   "outputs": [],
   "source": [
    "# MLS for cat\n",
    "def closest_points(point, points, h):\n",
    "    '''\n",
    "    computes the closest points to point\n",
    "    '''\n",
    "    dist = np.linalg.norm(np.subtract(points, point), axis = 1)\n",
    "    return np.argwhere(dist < h)\n",
    "\n",
    "def mls(point, pi, f, h, basis, wt, closest_points):\n",
    "    '''\n",
    "    computes the local approximation of function f and then checks\n",
    "    if the given point is outside or inside. \n",
    "    Input:\n",
    "        point : point on the grid to be evaluated\n",
    "        pi : point cloud (with eps and -eps)\n",
    "        f : constraints (value of f(pi[i]))\n",
    "        h : wendland radius\n",
    "        basis : basis function \n",
    "        wt : weight function (wedland)\n",
    "        closest_points : function that computes the closest point within a radius\n",
    "    '''\n",
    "    # finding closest points to given point\n",
    "    cl_p = closest_points(point, pi, h)\n",
    "    A = []\n",
    "    W = np.zeros((len(cl_p), len(cl_p)))\n",
    "    b = f[cl_p] \n",
    "    # add exception later\n",
    "    if len(cl_p) < len(basis(p[0])):\n",
    "        return 10000\n",
    "    else:\n",
    "        for i in range(len(cl_p)):\n",
    "            W[i,i] = wt(np.linalg.norm(point - pi[int(cl_p[i])]), h)\n",
    "            A.append(basis(pi[int(cl_p[i])]))\n",
    "\n",
    "        A = np.matrix(A)\n",
    "        W = np.matrix(W)\n",
    "        b = np.matrix(b)\n",
    "        try:\n",
    "            x = np.linalg.solve(A.T*W*A, A.T*W*b)\n",
    "        except:\n",
    "            print(A.T*W*A)\n",
    "        \n",
    "        return float(np.dot(x.T, basis(point)))"
   ]
  },
  {
   "cell_type": "code",
   "execution_count": 43,
   "metadata": {},
   "outputs": [],
   "source": [
    "# different basis functions\n",
    "def poly_1(x):\n",
    "    \"\"\"\n",
    "    1 st degree polynomial basis\n",
    "    \"\"\"\n",
    "    val = np.zeros(4)\n",
    "    val[0] = 1.0\n",
    "    val[1:] = x\n",
    "    return val\n",
    "\n",
    "def poly_2(x):\n",
    "    \"\"\"\n",
    "    2 st degree polynomial basis\n",
    "    \"\"\"\n",
    "    val = np.zeros(10)\n",
    "    val[0] = 1.0\n",
    "    val[1:4] = x\n",
    "    val[4:7] = [x[0]**2, x[1]**2, x[2]**2]\n",
    "    val[7:] = [x[0]*x[1], x[1]*x[2], x[0]*x[2]]\n",
    "    \n",
    "    return val\n",
    "\n",
    "# weight functions\n",
    "\n",
    "def wedland_func(r, h):\n",
    "    \"\"\"\n",
    "    wedland weight function\n",
    "    \"\"\"\n",
    "    return ((1 - r/h)**4)*(4*(r/h) + 1)\n",
    "    \n"
   ]
  },
  {
   "cell_type": "code",
   "execution_count": 54,
   "metadata": {},
   "outputs": [
    {
     "data": {
      "text/plain": [
       "5.066686153411865"
      ]
     },
     "execution_count": 54,
     "metadata": {},
     "output_type": "execute_result"
    }
   ],
   "source": [
    "# Computing grid and mls for every point on the grid to check if point lies inside or outside\n",
    "import time\n",
    "n = 20 #20#15 #20\n",
    "h = 35 #40#30 #35 \n",
    "\n",
    "#computing new spatial grid for the points with constraints\n",
    "bbmin, bbmax = compute_bbox(p)\n",
    "bbox_diag = np.linalg.norm(bbmax - bbmin)\n",
    "grid_new = create_spatial_grid(p, bbmin, bbmax, 10)\n",
    "\n",
    "x, T = tet_grid((n, n, n), bbmin - 0.1 * bbox_diag, bbmax + 0.1 * bbox_diag)\n",
    "\n",
    "ind = np.zeros(len(x))\n",
    "fx = np.zeros(len(x))\n",
    "\n",
    "closest_points_accelerated = lambda point, points, h: closest_points_acc(point, points, h, grid_new)\n",
    "\n",
    "a = time.time()\n",
    "for i in range(len(x)):\n",
    "    # computes the mls approximation with acceleration\n",
    "    fx[i] = mls(x[i].copy(), p, f, h, poly_2, wedland_func, closest_points_accelerated)\n",
    "    # computes the mls approximation without acceleration\n",
    "#     fx[i] = mls(x[i].copy(), p, f, h, poly_2, wedland_func, closest_points)\n",
    "\n",
    "    if  fx[i] > 0:\n",
    "        ind[i] = 1\n",
    "    else:\n",
    "        ind[i] = -1 \n",
    "b = time.time()\n",
    "b-a"
   ]
  },
  {
   "cell_type": "code",
   "execution_count": 55,
   "metadata": {},
   "outputs": [
    {
     "data": {
      "application/vnd.jupyter.widget-view+json": {
       "model_id": "c9f6e1eb5d16421380988476a06fb22c",
       "version_major": 2,
       "version_minor": 0
      },
      "text/plain": [
       "Renderer(camera=PerspectiveCamera(children=(DirectionalLight(color='white', intensity=0.6, position=(0.5000000…"
      ]
     },
     "metadata": {},
     "output_type": "display_data"
    },
    {
     "data": {
      "text/plain": [
       "<meshplot.Viewer.Viewer at 0x7efb43fcf6a0>"
      ]
     },
     "execution_count": 55,
     "metadata": {},
     "output_type": "execute_result"
    }
   ],
   "source": [
    "# normalizing the bounding box to make it compatible for plotting\n",
    "x_norm = np.subtract(x, bbmin)\n",
    "x_norm[:,0] /= bbmax[0] - bbmin[0]\n",
    "x_norm[:,1] /= bbmax[1] - bbmin[1]\n",
    "x_norm[:,2] /= bbmax[2] - bbmin[2]\n",
    "\n",
    "mp.plot(x_norm, c=ind, shading={\"point_size\": 0.1,\"width\": 800, \"height\": 800})"
   ]
  },
  {
   "cell_type": "code",
   "execution_count": 56,
   "metadata": {},
   "outputs": [
    {
     "data": {
      "application/vnd.jupyter.widget-view+json": {
       "model_id": "5549ac661ac04591b7dd77968695ce4b",
       "version_major": 2,
       "version_minor": 0
      },
      "text/plain": [
       "Renderer(camera=PerspectiveCamera(children=(DirectionalLight(color='white', intensity=0.6, position=(0.5000000…"
      ]
     },
     "metadata": {},
     "output_type": "display_data"
    },
    {
     "data": {
      "text/plain": [
       "<meshplot.Viewer.Viewer at 0x7efb4c0af130>"
      ]
     },
     "execution_count": 56,
     "metadata": {},
     "output_type": "execute_result"
    }
   ],
   "source": [
    "sv, sf, _, _ = igl.marching_tets(x_norm, T, fx, 0)\n",
    "mp.plot(sv, sf, shading={\"wireframe\": True})"
   ]
  },
  {
   "cell_type": "code",
   "execution_count": 53,
   "metadata": {},
   "outputs": [
    {
     "data": {
      "application/vnd.jupyter.widget-view+json": {
       "model_id": "1748f69aa29b4975ac32c013758f67fc",
       "version_major": 2,
       "version_minor": 0
      },
      "text/plain": [
       "Renderer(camera=PerspectiveCamera(children=(DirectionalLight(color='white', intensity=0.6, position=(0.5284329…"
      ]
     },
     "metadata": {},
     "output_type": "display_data"
    },
    {
     "data": {
      "text/plain": [
       "<meshplot.Viewer.Viewer at 0x7efb43fc3b80>"
      ]
     },
     "execution_count": 53,
     "metadata": {},
     "output_type": "execute_result"
    }
   ],
   "source": [
    "# filtering to find the largest connected component\n",
    "def filter_mls(sf):\n",
    "    \"\"\"\n",
    "    Filters the mesh and returns the largest connected component of the reconstructed mesh\n",
    "    Input:\n",
    "        sf : array containing faces after reconstructing the point cloud\n",
    "    \"\"\"\n",
    "    tmp1 = igl.face_components(sf)\n",
    "    ind = stats.mode(tmp1)[0]\n",
    "    f_sf = []\n",
    "    for i in range(len(sf)):\n",
    "        if tmp1[i] == ind:\n",
    "            f_sf.append(sf[i])\n",
    "    \n",
    "    return np.array(f_sf)\n",
    "\n",
    "mp.plot(sv, filter_mls(sf) ,shading={\"wireframe\": True})"
   ]
  },
  {
   "cell_type": "code",
   "execution_count": null,
   "metadata": {},
   "outputs": [],
   "source": []
  }
 ],
 "metadata": {
  "kernelspec": {
   "display_name": "Python 3",
   "language": "python",
   "name": "python3"
  },
  "language_info": {
   "codemirror_mode": {
    "name": "ipython",
    "version": 3
   },
   "file_extension": ".py",
   "mimetype": "text/x-python",
   "name": "python",
   "nbconvert_exporter": "python",
   "pygments_lexer": "ipython3",
   "version": "3.8.5"
  }
 },
 "nbformat": 4,
 "nbformat_minor": 4
}
