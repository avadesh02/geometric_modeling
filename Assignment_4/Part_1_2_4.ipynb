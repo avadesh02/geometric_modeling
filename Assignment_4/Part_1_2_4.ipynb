{
 "cells": [
  {
   "cell_type": "code",
   "execution_count": 1,
   "id": "concerned-grain",
   "metadata": {},
   "outputs": [],
   "source": [
    "import math\n",
    "import numpy as np\n",
    "import scipy.sparse as sp\n",
    "\n",
    "import igl\n",
    "import meshplot as mp\n",
    "from meshplot import plot, subplot, interact\n",
    "\n",
    "from math import sqrt"
   ]
  },
  {
   "cell_type": "code",
   "execution_count": 2,
   "id": "concerned-fossil",
   "metadata": {},
   "outputs": [
    {
     "name": "stdout",
     "output_type": "stream",
     "text": [
      "(756, 3)\n"
     ]
    }
   ],
   "source": [
    "v, f = igl.read_triangle_mesh(\"data/irr4-cyl2.off\")\n",
    "\n",
    "v_cam, f_cam  = igl.read_triangle_mesh(\"./data/camel_head.off\")\n",
    "\n",
    "tt, _ = igl.triangle_triangle_adjacency(f)\n",
    "\n",
    "c = np.loadtxt(\"data/irr4-cyl2.constraints\")\n",
    "cf = c[:, 0].astype(np.int64)\n",
    "c = c[:, 1:]\n",
    "\n",
    "print(f.shape)"
   ]
  },
  {
   "cell_type": "code",
   "execution_count": 3,
   "id": "useful-consultation",
   "metadata": {},
   "outputs": [],
   "source": [
    "def align_field_hard(V, F, hard_id, hard_value):\n",
    "    \"\"\"\n",
    "    This function creates a smooth vector field by formulating the problem with hard constraints\n",
    "    \"\"\"\n",
    "    \n",
    "    # reordering the sequences of faces so that the faces with constraints are\n",
    "    # at the end\n",
    "    F_constrained = F[hard_id] # selecting the faces with constraints\n",
    "    F_free = np.delete(F, hard_id, axis = 0) # selecting the faces without constraints\n",
    "    F_str = np.vstack((F_free, F_constrained)) # restacking the face array\n",
    "\n",
    "    # Computing the adjacency list\n",
    "    TT_str, _ = igl.triangle_triangle_adjacency(F_str)\n",
    "\n",
    "    # Edges\n",
    "    e1 = V[F_str[:, 1], :] - V[F_str[:, 0], :]\n",
    "    e2 = V[F_str[:, 2], :] - V[F_str[:, 0], :]\n",
    "\n",
    "    # Compute the local reference systems for each face, T1, T2\n",
    "    T1 = e1 / np.linalg.norm(e1, axis=1)[:,None]\n",
    "        \n",
    "    T2 =  np.cross(T1, np.cross(T1, e2))\n",
    "    T2 /= np.linalg.norm(T2, axis=1)[:,None]\n",
    "  \n",
    "    # Arrays for the entries of the matrix\n",
    "    data = []\n",
    "    ii = []\n",
    "    jj = []\n",
    "    \n",
    "    index = 0\n",
    "    for f in range(F_str.shape[0]):\n",
    "        for ei in range(3): # Loop over the edges\n",
    "            \n",
    "            # Look up the opposite face\n",
    "            g = TT_str[f, ei]\n",
    "            \n",
    "            # If it is a boundary edge, it does not contribute to the energy\n",
    "            # or avoid to count every edge twice\n",
    "            if g == -1 or f > g:\n",
    "                continue\n",
    "                \n",
    "            # Compute the complex representation of the common edge\n",
    "            e  = V[F_str[f, (ei+1)%3], :] - V[F_str[f, ei], :]\n",
    "            \n",
    "            vef = np.array([np.dot(e, T1[f, :]), np.dot(e, T2[f, :])])\n",
    "            vef /= np.linalg.norm(vef)\n",
    "            ef = (vef[0] + vef[1]*1j).conjugate()\n",
    "            \n",
    "            veg = np.array([np.dot(e, T1[g, :]), np.dot(e, T2[g, :])])\n",
    "            veg /= np.linalg.norm(veg)\n",
    "            eg = (veg[0] + veg[1]*1j).conjugate()\n",
    "            \n",
    "            \n",
    "            # Add the term conj(f)^n*ui - conj(g)^n*uj to the energy matrix\n",
    "            data.append(ef);  ii.append(index); jj.append(f)\n",
    "            data.append(-eg); ii.append(index); jj.append(g)\n",
    "\n",
    "            index += 1\n",
    "            \n",
    "    \n",
    "    d = np.zeros(hard_id.shape[0], dtype=np.complex)\n",
    "    \n",
    "    for ci in range(hard_id.shape[0]):\n",
    "        f = len(F_free) + ci\n",
    "        v = hard_value[ci, :]\n",
    "        \n",
    "        # Project on the local frame\n",
    "        c = np.dot(v, T1[f, :]) + np.dot(v, T2[f, :])*1j\n",
    "        d[ci] = c\n",
    "    \n",
    "    # Solve the linear system\n",
    "    A = sp.coo_matrix((data, (ii, jj)), shape=(index, F.shape[0])).asformat(\"csr\")\n",
    "    A = A.H @ A\n",
    "    \n",
    "    # variable elimination\n",
    "    A_tilde = A[0:len(F_free), 0:len(F_free)]\n",
    "    A_fc = A[0:len(F_free), len(F_free):]\n",
    "    b_tilde = - A_fc @ d\n",
    "    \n",
    "    u_fr = sp.linalg.spsolve(A_tilde, b_tilde)\n",
    "    u = np.hstack((u_fr, d))\n",
    "    \n",
    "    R = T1 * u.real[:,None] + T2 * u.imag[:,None]\n",
    "\n",
    "    return R, F_str\n",
    "    "
   ]
  },
  {
   "cell_type": "code",
   "execution_count": 4,
   "id": "medical-defendant",
   "metadata": {},
   "outputs": [],
   "source": [
    "def plot_mesh_field(V, F, R, constrain_faces):\n",
    "    # Highlight in red the constrained faces\n",
    "    col = np.ones_like(f)\n",
    "    col[constrain_faces, 1:] = 0\n",
    "    \n",
    "    # Scaling of the representative vectors\n",
    "    avg = igl.avg_edge_length(V, F)/2\n",
    "\n",
    "    #Plot from face barycenters\n",
    "    B = igl.barycenter(V, F)\n",
    "\n",
    "    p = mp.plot(V, F, c=col)\n",
    "    p.add_lines(B, B + R * avg)\n",
    "    \n",
    "    return p"
   ]
  },
  {
   "cell_type": "code",
   "execution_count": 5,
   "id": "hourly-punishment",
   "metadata": {},
   "outputs": [],
   "source": [
    "R, f_str = align_field_hard(v, f, cf, c)\n",
    "np.savetxt(\"interpolated_field_hard\", R)"
   ]
  },
  {
   "cell_type": "code",
   "execution_count": 6,
   "id": "annoying-reach",
   "metadata": {},
   "outputs": [
    {
     "data": {
      "application/vnd.jupyter.widget-view+json": {
       "model_id": "70f7043319814e8786c264efb4aecc84",
       "version_major": 2,
       "version_minor": 0
      },
      "text/plain": [
       "Renderer(camera=PerspectiveCamera(children=(DirectionalLight(color='white', intensity=0.6, position=(0.0, 0.0,…"
      ]
     },
     "metadata": {},
     "output_type": "display_data"
    },
    {
     "data": {
      "text/plain": [
       "<meshplot.Viewer.Viewer at 0x7f629833b730>"
      ]
     },
     "execution_count": 6,
     "metadata": {},
     "output_type": "execute_result"
    }
   ],
   "source": [
    "cf_str = np.arange(len(f_str) - len(cf), len(f_str)) # the last n elements are constrained elements\n",
    "plot_mesh_field(v, f_str, R, cf_str)"
   ]
  },
  {
   "cell_type": "code",
   "execution_count": 7,
   "id": "nearby-posting",
   "metadata": {},
   "outputs": [
    {
     "name": "stdout",
     "output_type": "stream",
     "text": [
      "7.357290355143346\n"
     ]
    }
   ],
   "source": [
    "# flattening R from the previous question to be used in least squares\n",
    "u = R.flatten(\"F\")\n",
    "# computing gradients\n",
    "G = igl.grad(v, f_str)\n",
    "# creating the sparese weight vector with areas\n",
    "wt = sp.diags(np.tile(igl.doublearea(v, f), 3))\n",
    "# solving the problem but setting a hard constraint of zero for the last scalar gradient value\n",
    "s = sp.linalg.spsolve((G.T@wt@G)[0:-1,0:-1], (G.T@wt@u)[0:-1])\n",
    "# restacking to get the entire gradient flattened vector with constrained component as well\n",
    "s = np.hstack((s, 0))\n",
    "np.savetxt(\"scalar_function\", s)\n",
    "# checking if the solution is close to desired value\n",
    "gt = G@s\n",
    "print(np.linalg.norm(gt-u))\n",
    "# reshaping to for gradient vector (# F * 3)\n",
    "gt_vec = np.hstack((gt[0:len(f_str):,None], np.hstack((gt[len(f_str):2*len(f_str):,None], gt[2*len(f_str)::,None]))))"
   ]
  },
  {
   "cell_type": "code",
   "execution_count": 8,
   "id": "random-lingerie",
   "metadata": {},
   "outputs": [],
   "source": [
    "def plot_scalar_field_with_grad(V, F, R, R_des, constrain_faces, cmap):\n",
    "    \n",
    "    # Scaling of the representative vectors\n",
    "    avg = igl.avg_edge_length(V, F)/2\n",
    "\n",
    "    #Plot from face barycenters\n",
    "    B = igl.barycenter(V, F)\n",
    "\n",
    "    p = mp.plot(V, F, c=cmap)\n",
    "    # the desired vector field\n",
    "    p.add_lines(B, B + R_des * avg, shading = {\"line_color\":\"red\"})\n",
    "    # graidents of the scalar field\n",
    "    p.add_lines(B, B + R * avg)\n",
    "    \n",
    "    return p"
   ]
  },
  {
   "cell_type": "code",
   "execution_count": 9,
   "id": "gentle-circuit",
   "metadata": {},
   "outputs": [
    {
     "data": {
      "application/vnd.jupyter.widget-view+json": {
       "model_id": "54944438d33e48a990452b183dce0d59",
       "version_major": 2,
       "version_minor": 0
      },
      "text/plain": [
       "Renderer(camera=PerspectiveCamera(children=(DirectionalLight(color='white', intensity=0.6, position=(0.0, 0.0,…"
      ]
     },
     "metadata": {},
     "output_type": "display_data"
    }
   ],
   "source": [
    "p = plot_scalar_field_with_grad(v, f_str, gt_vec, R, cf_str, s)"
   ]
  },
  {
   "cell_type": "code",
   "execution_count": 10,
   "id": "tutorial-precipitation",
   "metadata": {},
   "outputs": [
    {
     "data": {
      "application/vnd.jupyter.widget-view+json": {
       "model_id": "890daa77c05b4985bc1bd95e6814f9fb",
       "version_major": 2,
       "version_minor": 0
      },
      "text/plain": [
       "HBox(children=(Output(), Output()))"
      ]
     },
     "metadata": {},
     "output_type": "display_data"
    },
    {
     "data": {
      "application/vnd.jupyter.widget-view+json": {
       "model_id": "54a02a84627643b59244f2519773a2c3",
       "version_major": 2,
       "version_minor": 0
      },
      "text/plain": [
       "HBox(children=(Output(), Output()))"
      ]
     },
     "metadata": {},
     "output_type": "display_data"
    }
   ],
   "source": [
    "def harmonic_parameterization(v, f):\n",
    "    \"\"\"\n",
    "    This function computes the harmonic parametrization of a mesh\n",
    "    \"\"\"\n",
    "    ## Find the open boundary\n",
    "    bnd = igl.boundary_loop(f)\n",
    "\n",
    "    ## Map the boundary to a circle, preserving edge proportions\n",
    "    bnd_uv = igl.map_vertices_to_circle(v, bnd)\n",
    "\n",
    "    ## Harmonic parametrization for the internal vertices\n",
    "    uv = igl.harmonic_weights(v, f, bnd, bnd_uv, 1)\n",
    "\n",
    "    return uv\n",
    "\n",
    "def plot_gradient(V, F, R, p  = None):\n",
    "    # Highlight in red the constrained faces\n",
    "    # Scaling of the representative vectors\n",
    "    avg = igl.avg_edge_length(V, F)/2\n",
    "\n",
    "    #Plot from face barycenters\n",
    "    B = igl.barycenter(V, F)\n",
    "    if p == None:\n",
    "        p = mp.plot(V, F)\n",
    "    \n",
    "    p.add_lines(B, B + R * avg)\n",
    "    \n",
    "    return p\n",
    "\n",
    "# computing harmonic parameterization for the cylinder mesh\n",
    "uv = harmonic_parameterization(v, f_str)\n",
    "# ploting the uv map and mesh with the v scalar values as color map\n",
    "p = subplot(v, f_str, c = uv[:,1], s=[1, 2, 0], shading={\"wireframe\": True, \"flat\": False})\n",
    "subplot(uv, f_str, shading={\"wireframe\": True, \"flat\": False}, s=[1, 2, 1], data=p, c = uv[:,1])\n",
    "\n",
    "# UV map with checked board\n",
    "p = subplot(v, f_str, uv = uv, s=[1, 2, 0], shading={\"wireframe\": False, \"flat\": False})\n",
    "subplot(uv, f_str, shading={\"wireframe\": True, \"flat\": False}, s=[1, 2, 1], data=p, uv = uv)\n",
    "\n"
   ]
  },
  {
   "cell_type": "code",
   "execution_count": 11,
   "id": "ranking-rogers",
   "metadata": {
    "scrolled": false
   },
   "outputs": [
    {
     "data": {
      "application/vnd.jupyter.widget-view+json": {
       "model_id": "1ec44e6d09994b98957e4daf9cad5066",
       "version_major": 2,
       "version_minor": 0
      },
      "text/plain": [
       "HBox(children=(Output(), Output()))"
      ]
     },
     "metadata": {},
     "output_type": "display_data"
    },
    {
     "data": {
      "application/vnd.jupyter.widget-view+json": {
       "model_id": "8d905c3b624c485eb1249a17e078d3b2",
       "version_major": 2,
       "version_minor": 0
      },
      "text/plain": [
       "Renderer(camera=PerspectiveCamera(children=(DirectionalLight(color='white', intensity=0.6, position=(0.0, 0.82…"
      ]
     },
     "metadata": {},
     "output_type": "display_data"
    },
    {
     "data": {
      "text/plain": [
       "<meshplot.Viewer.Viewer at 0x7f6089129430>"
      ]
     },
     "execution_count": 11,
     "metadata": {},
     "output_type": "execute_result"
    }
   ],
   "source": [
    "# computing gradient of the v mapping\n",
    "G = igl.grad(v, f_str)\n",
    "gt = G @ uv[:,1]\n",
    "# converting to vector form for ploting\n",
    "gt_vec = np.hstack((gt[0:len(f):,None], np.hstack((gt[len(f):2*len(f):,None], gt[2*len(f)::,None]))))\n",
    "\n",
    "# replacing v map with smooth user-guided vector field\n",
    "uv_modified = uv.copy()\n",
    "uv_modified[:,1] = s\n",
    "gt = G @ s\n",
    "gt_vec_modified = np.hstack((gt[0:len(f):,None], np.hstack((gt[len(f):2*len(f):,None], gt[2*len(f)::,None]))))\n",
    "\n",
    "# UV map with checked board\n",
    "p_modified = subplot(v, f_str, uv = uv_modified, s=[1, 2, 0], shading={\"wireframe\": False, \"flat\": False})\n",
    "subplot(uv_modified, f_str, shading={\"wireframe\": True, \"flat\": False}, s=[1, 2, 1], data=p_modified, uv = uv_modified)\n",
    "plot(uv_modified, f_str, shading={\"wireframe\": True, \"flat\": False}, c = uv[:,1])"
   ]
  },
  {
   "cell_type": "code",
   "execution_count": 12,
   "id": "animal-average",
   "metadata": {
    "scrolled": false
   },
   "outputs": [
    {
     "data": {
      "application/vnd.jupyter.widget-view+json": {
       "model_id": "068553d9c6254837bc56c3de6e2305cb",
       "version_major": 2,
       "version_minor": 0
      },
      "text/plain": [
       "Renderer(camera=PerspectiveCamera(children=(DirectionalLight(color='white', intensity=0.6, position=(0.0, 0.0,…"
      ]
     },
     "metadata": {},
     "output_type": "display_data"
    },
    {
     "data": {
      "application/vnd.jupyter.widget-view+json": {
       "model_id": "69e7618d8f8b41ffa842e67f1c4275ec",
       "version_major": 2,
       "version_minor": 0
      },
      "text/plain": [
       "Renderer(camera=PerspectiveCamera(children=(DirectionalLight(color='white', intensity=0.6, position=(0.0, 0.0,…"
      ]
     },
     "metadata": {},
     "output_type": "display_data"
    },
    {
     "data": {
      "text/plain": [
       "<meshplot.Viewer.Viewer at 0x7f608914ba00>"
      ]
     },
     "execution_count": 12,
     "metadata": {},
     "output_type": "execute_result"
    }
   ],
   "source": [
    "# plotting \n",
    "p = plot(v, f_str, c = uv[:,1], shading={\"wireframe\": False, \"flat\": True})\n",
    "plot_gradient(v, f_str, gt_vec, p)\n",
    "\n",
    "p = plot(v, f_str, c = uv_modified[:,1], shading={\"wireframe\": True, \"flat\": True})\n",
    "plot_gradient(v, f_str, gt_vec_modified, p)\n"
   ]
  },
  {
   "cell_type": "code",
   "execution_count": 13,
   "id": "angry-patrick",
   "metadata": {},
   "outputs": [
    {
     "data": {
      "application/vnd.jupyter.widget-view+json": {
       "model_id": "d3e0dfc6c78a413aa295fe55fb331390",
       "version_major": 2,
       "version_minor": 0
      },
      "text/plain": [
       "Renderer(camera=PerspectiveCamera(children=(DirectionalLight(color='white', intensity=0.6, position=(0.0, 0.0,…"
      ]
     },
     "metadata": {},
     "output_type": "display_data"
    }
   ],
   "source": [
    "def plot_flipped_triangles(V, F, flipped_faces):\n",
    "    # Highlight in red the constrained faces\n",
    "    col = np.ones_like(F)\n",
    "    col[flipped_faces, 1:] = 0\n",
    "    p = mp.plot(V, F, c=col, shading={\"wireframe\": True, \"flat\": True})\n",
    "    \n",
    "    return p\n",
    "\n",
    "# determining which triangles are flipped \n",
    "is_flipped = np.zeros(len(f_str))\n",
    "k = 0\n",
    "for i in range(len(f_str)):\n",
    "    e1 = uv[f_str[i][1]] - uv[f_str[i][0]]\n",
    "    e2 = uv[f_str[i][2]] - uv[f_str[i][0]]\n",
    "    \n",
    "    # computing normal to see if vertices are counter clockwise\n",
    "    n = np.cross(e1, e2)\n",
    "\n",
    "    e1_mod = uv_modified[f_str[i][1]] - uv_modified[f_str[i][0]]\n",
    "    e2_mod = uv_modified[f_str[i][2]] - uv_modified[f_str[i][0]]\n",
    "    \n",
    "    # computing normal with new modified uv mapping\n",
    "    n_mod = np.cross(e1_mod, e2_mod)\n",
    "    \n",
    "    # a face is flipped if product is negative mostly because the original triangle\n",
    "    # the vertices will be counter clockwise (n = 1), while the other would be -1 (sign)\n",
    "    is_flipped[i] = np.sign(n*n_mod)\n",
    "\n",
    "    \n",
    "flipped_triangles = np.where(is_flipped == -1)\n",
    "np.savetxt(\"flipped_triangles\", flipped_triangles)\n",
    "\n",
    "p = plot_flipped_triangles(v, f_str, flipped_triangles)"
   ]
  },
  {
   "cell_type": "code",
   "execution_count": null,
   "id": "fifth-ceremony",
   "metadata": {},
   "outputs": [],
   "source": []
  }
 ],
 "metadata": {
  "kernelspec": {
   "display_name": "Python 3",
   "language": "python",
   "name": "python3"
  },
  "language_info": {
   "codemirror_mode": {
    "name": "ipython",
    "version": 3
   },
   "file_extension": ".py",
   "mimetype": "text/x-python",
   "name": "python",
   "nbconvert_exporter": "python",
   "pygments_lexer": "ipython3",
   "version": "3.8.5"
  }
 },
 "nbformat": 4,
 "nbformat_minor": 5
}
