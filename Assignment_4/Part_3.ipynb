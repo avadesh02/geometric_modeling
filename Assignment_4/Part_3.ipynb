{
 "cells": [
  {
   "cell_type": "code",
   "execution_count": 40,
   "id": "clear-music",
   "metadata": {},
   "outputs": [],
   "source": [
    "# Answers for part 3\n",
    "\n",
    "import igl\n",
    "import scipy as sp\n",
    "import numpy as np\n",
    "from meshplot import plot, subplot, interact"
   ]
  },
  {
   "cell_type": "code",
   "execution_count": 41,
   "id": "specific-purple",
   "metadata": {},
   "outputs": [],
   "source": [
    "def plot_gradient(V, F, R, p  = None):\n",
    "    # Highlight in red the constrained faces\n",
    "    # Scaling of the representative vectors\n",
    "    avg = igl.avg_edge_length(V, F)/2\n",
    "\n",
    "    #Plot from face barycenters\n",
    "    B = igl.barycenter(V, F)\n",
    "    if p == None:\n",
    "        p = mp.plot(V, F)\n",
    "    \n",
    "    p.add_lines(B, B + R * avg)\n",
    "    \n",
    "    return p"
   ]
  },
  {
   "cell_type": "code",
   "execution_count": 42,
   "id": "valid-prior",
   "metadata": {},
   "outputs": [
    {
     "data": {
      "application/vnd.jupyter.widget-view+json": {
       "model_id": "0c9df3e291964451b185a854beb05cd2",
       "version_major": 2,
       "version_minor": 0
      },
      "text/plain": [
       "HBox(children=(Output(), Output()))"
      ]
     },
     "metadata": {},
     "output_type": "display_data"
    }
   ],
   "source": [
    "# Harmonic parametrization\n",
    "v, f  = igl.read_triangle_mesh(\"./data/camel_head.off\")\n",
    "## Find the open boundary\n",
    "bnd = igl.boundary_loop(f)\n",
    "\n",
    "## Map the boundary to a circle, preserving edge proportions\n",
    "bnd_uv = igl.map_vertices_to_circle(v, bnd)\n",
    "## Harmonic parametrization for the internal vertices\n",
    "uv_harmonic = igl.harmonic_weights(v, f, bnd, bnd_uv, 1)\n",
    "\n",
    "p = subplot(v, f, uv = uv_harmonic, s=[1, 2, 0])\n",
    "subplot(uv_harmonic, f, uv = uv_harmonic, shading={\"wireframe\": True, \"flat\": False}, s=[1, 2, 1], data=p, c = uv[:,0])\n"
   ]
  },
  {
   "cell_type": "code",
   "execution_count": 43,
   "id": "russian-memorial",
   "metadata": {},
   "outputs": [
    {
     "data": {
      "application/vnd.jupyter.widget-view+json": {
       "model_id": "20a103fe18cb4bcebe1077899dd0ea38",
       "version_major": 2,
       "version_minor": 0
      },
      "text/plain": [
       "Renderer(camera=PerspectiveCamera(children=(DirectionalLight(color='white', intensity=0.6, position=(1.9967555…"
      ]
     },
     "metadata": {},
     "output_type": "display_data"
    },
    {
     "data": {
      "text/plain": [
       "<meshplot.Viewer.Viewer at 0x7f4e3f0dbbb0>"
      ]
     },
     "execution_count": 43,
     "metadata": {},
     "output_type": "execute_result"
    }
   ],
   "source": [
    "G = igl.grad(v, f)\n",
    "gt = G @ uv_harmonic[:,0]\n",
    "gt_vec_harmonic = np.hstack((gt[0:len(f):,None], np.hstack((gt[len(f):2*len(f):,None], gt[2*len(f)::,None]))))\n",
    "\n",
    "p = plot(v, f, c = uv_harmonic[:,0], shading={\"wireframe\": False, \"flat\": False})\n",
    "plot_gradient(v, f, gt_vec_harmonic, p)\n"
   ]
  },
  {
   "cell_type": "code",
   "execution_count": 44,
   "id": "attractive-pasta",
   "metadata": {},
   "outputs": [
    {
     "data": {
      "application/vnd.jupyter.widget-view+json": {
       "model_id": "2a737e1175a944ddac4a2e28b6999bac",
       "version_major": 2,
       "version_minor": 0
      },
      "text/plain": [
       "HBox(children=(Output(), Output()))"
      ]
     },
     "metadata": {},
     "output_type": "display_data"
    }
   ],
   "source": [
    "# LSCM parametrization\n",
    "\n",
    "# Fix two points on the boundary\n",
    "## Find the open boundary\n",
    "bnd = igl.boundary_loop(f)\n",
    "b = np.array([2, 1])\n",
    "b[0] = bnd[0]\n",
    "b[1] = bnd[int(bnd.size / 2)]\n",
    "# b = igl.map_vertices_to_circle(v, bnd)\n",
    "\n",
    "bc = np.array([[0.0, 0.0], [1.0, 0.0]])\n",
    "\n",
    "# LSCM parametrization\n",
    "_, uv_lscm = igl.lscm(v, f, b, bc)\n",
    "\n",
    "p = subplot(v, f, uv=uv_lscm, shading={\"wireframe\": False, \"flat\": False}, s=[1, 2, 0])\n",
    "subplot(uv_lscm, f, uv=uv_lscm, shading={\"wireframe\": True, \"flat\": False}, s=[1, 2, 1], data=p)\n"
   ]
  },
  {
   "cell_type": "code",
   "execution_count": 45,
   "id": "cross-covering",
   "metadata": {},
   "outputs": [
    {
     "data": {
      "application/vnd.jupyter.widget-view+json": {
       "model_id": "be933fb9c45444ee878b59d001379194",
       "version_major": 2,
       "version_minor": 0
      },
      "text/plain": [
       "Renderer(camera=PerspectiveCamera(children=(DirectionalLight(color='white', intensity=0.6, position=(1.9967555…"
      ]
     },
     "metadata": {},
     "output_type": "display_data"
    },
    {
     "data": {
      "text/plain": [
       "<meshplot.Viewer.Viewer at 0x7f4e3f0dd040>"
      ]
     },
     "execution_count": 45,
     "metadata": {},
     "output_type": "execute_result"
    }
   ],
   "source": [
    "G = igl.grad(v, f)\n",
    "gt = G @ uv_lscm[:,0]\n",
    "gt_vec_lscm = np.hstack((gt[0:len(f):,None], np.hstack((gt[len(f):2*len(f):,None], gt[2*len(f)::,None]))))\n",
    "\n",
    "p = plot(v, f, c = uv_lscm[:,0], shading={\"wireframe\": False, \"flat\": False})\n",
    "plot_gradient(v, f, gt_vec_lscm, p)"
   ]
  }
 ],
 "metadata": {
  "kernelspec": {
   "display_name": "Python 3",
   "language": "python",
   "name": "python3"
  },
  "language_info": {
   "codemirror_mode": {
    "name": "ipython",
    "version": 3
   },
   "file_extension": ".py",
   "mimetype": "text/x-python",
   "name": "python",
   "nbconvert_exporter": "python",
   "pygments_lexer": "ipython3",
   "version": "3.8.5"
  }
 },
 "nbformat": 4,
 "nbformat_minor": 5
}
