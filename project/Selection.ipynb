{
 "cells": [
  {
   "cell_type": "code",
   "execution_count": 89,
   "id": "opposed-yesterday",
   "metadata": {},
   "outputs": [],
   "source": [
    "import numpy as np\n",
    "import igl\n",
    "import meshplot as mp\n",
    "from scipy.spatial.transform import Rotation\n",
    "import ipywidgets as iw"
   ]
  },
  {
   "cell_type": "code",
   "execution_count": 98,
   "id": "civil-legend",
   "metadata": {},
   "outputs": [],
   "source": [
    "with np.load('data/octa_sphere_5.npz') as npl:\n",
    "    v_s, f_s = npl['v'], npl['f']"
   ]
  },
  {
   "cell_type": "code",
   "execution_count": 99,
   "id": "incident-canon",
   "metadata": {},
   "outputs": [],
   "source": [
    "v, f = igl.read_triangle_mesh('data/Dog_v2.off')\n",
    "segments_recording = np.zeros(len(v), dtype=int)"
   ]
  },
  {
   "cell_type": "code",
   "execution_count": 100,
   "id": "prompt-bernard",
   "metadata": {},
   "outputs": [],
   "source": [
    "# v -= v.min(axis=0)\n",
    "# v /= v.max()"
   ]
  },
  {
   "cell_type": "code",
   "execution_count": 101,
   "id": "available-discipline",
   "metadata": {},
   "outputs": [
    {
     "data": {
      "application/vnd.jupyter.widget-view+json": {
       "model_id": "b4bb1ee06c6047f087eeee384f5546bc",
       "version_major": 2,
       "version_minor": 0
      },
      "text/plain": [
       "interactive(children=(ToggleButtons(description='Segment', options=(1, '+'), value=1), Output()), _dom_classes…"
      ]
     },
     "metadata": {},
     "output_type": "display_data"
    },
    {
     "data": {
      "application/vnd.jupyter.widget-view+json": {
       "model_id": "989fcc82853a4a679a10611bb083308f",
       "version_major": 2,
       "version_minor": 0
      },
      "text/plain": [
       "HBox(children=(Button(description='Paint!', style=ButtonStyle()), Button(description='Clear!', style=ButtonSty…"
      ]
     },
     "metadata": {},
     "output_type": "display_data"
    },
    {
     "data": {
      "application/vnd.jupyter.widget-view+json": {
       "model_id": "a74c6d14f77e4ba3b1f63845b12946dc",
       "version_major": 2,
       "version_minor": 0
      },
      "text/plain": [
       "Renderer(camera=PerspectiveCamera(children=(DirectionalLight(color='white', intensity=0.6, position=(0.0, 0.94…"
      ]
     },
     "metadata": {},
     "output_type": "display_data"
    },
    {
     "data": {
      "application/vnd.jupyter.widget-view+json": {
       "model_id": "ca26ce0add6f4f0e91a38a4d86492d22",
       "version_major": 2,
       "version_minor": 0
      },
      "text/plain": [
       "interactive(children=(FloatSlider(value=0.5, description='radius', max=1.0, min=0.5), FloatSlider(value=0.0, d…"
      ]
     },
     "metadata": {},
     "output_type": "display_data"
    },
    {
     "data": {
      "text/plain": [
       "<function __main__.sf(radius, x, y, z)>"
      ]
     },
     "execution_count": 101,
     "metadata": {},
     "output_type": "execute_result"
    }
   ],
   "source": [
    "tb = iw.ToggleButtons(description='Segment', options=[1,'+'])\n",
    "@mp.interact(x=tb)\n",
    "def s_but(x):\n",
    "    if x == '+':\n",
    "        tb.options = list(range(1,len(tb.options)+1)) + ['+']\n",
    "        tb.value = len(tb.options) - 1\n",
    "    else:\n",
    "        tb.current = x\n",
    "\n",
    "button = iw.Button(description=\"Paint!\")\n",
    "clear_button = iw.Button(description=\"Clear!\")\n",
    "\n",
    "# Set Callback\n",
    "def paint_clicked(b):\n",
    "    slicer = np.where(np.linalg.norm(v - sf.coord[1:],axis=1) < sf.coord[0])[0]\n",
    "    segments_recording[slicer] = tb.current\n",
    "    paint_ui.update_object(oid=0, colors=segments_recording)\n",
    "def clear_clicked(b):\n",
    "    segments_recording[segments_recording == tb.current] = 0\n",
    "    paint_ui.update_object(oid=0, colors=segments_recording)\n",
    "button.on_click(paint_clicked)\n",
    "clear_button.on_click(clear_clicked)\n",
    "\n",
    "# Display Buttons\n",
    "display(iw.HBox([button, clear_button]))\n",
    "\n",
    "# Meshplot\n",
    "paint_ui = mp.plot(v,f,c=segments_recording)\n",
    "paint_ui.add_mesh(v_s*0.1, f_s,c=np.array([1,0,0]))\n",
    "def sf(radius,x,y,z):\n",
    "    paint_ui.update_object(oid = 1, vertices = v_s*radius + np.array([x,y,z]))\n",
    "    sf.coord = [radius,x,y,z]\n",
    "mp.interact(sf, \n",
    "            radius = iw.FloatSlider(min=0.5, max=1, value=0.5),\n",
    "            x = iw.FloatSlider(min=-20.0, max=20, value=0, step = 0.02),\n",
    "            y = iw.FloatSlider(min=-20.1, max=20, value=0, step = 0.02),\n",
    "            z = iw.FloatSlider(min=-20.1, max=20, value=0, step = 0.02))"
   ]
  },
  {
   "cell_type": "code",
   "execution_count": 72,
   "id": "voluntary-button",
   "metadata": {},
   "outputs": [],
   "source": [
    "# np.save('data/dog.label.npy', segments_recording)"
   ]
  },
  {
   "cell_type": "code",
   "execution_count": 103,
   "id": "liquid-painting",
   "metadata": {},
   "outputs": [
    {
     "name": "stdout",
     "output_type": "stream",
     "text": [
      "6\n",
      "[32100  7052  2749  5761  3581  4001]\n"
     ]
    }
   ],
   "source": [
    "n_segments = np.max(segments_recording)\n",
    "# print(np.argwhere(segments_recording == 3))\n",
    "print(n_segments)\n",
    "CE = np.zeros(n_segments, dtype = int)\n",
    "for i in range(0, n_segments):\n",
    "#     print(len(np.argwhere(segments_recording == i)))\n",
    "    CE[i] = np.argwhere(segments_recording == i+1)[0]\n",
    "    \n",
    "print(CE)"
   ]
  },
  {
   "cell_type": "code",
   "execution_count": null,
   "id": "proud-progressive",
   "metadata": {},
   "outputs": [],
   "source": []
  }
 ],
 "metadata": {
  "kernelspec": {
   "display_name": "Python 3",
   "language": "python",
   "name": "python3"
  },
  "language_info": {
   "codemirror_mode": {
    "name": "ipython",
    "version": 3
   },
   "file_extension": ".py",
   "mimetype": "text/x-python",
   "name": "python",
   "nbconvert_exporter": "python",
   "pygments_lexer": "ipython3",
   "version": "3.8.5"
  }
 },
 "nbformat": 4,
 "nbformat_minor": 5
}
